{
  "nbformat": 4,
  "nbformat_minor": 0,
  "metadata": {
    "colab": {
      "name": "Prospect Theory.ipynb",
      "provenance": [],
      "authorship_tag": "ABX9TyMSDsDfQCIaye4SPkbfdy+w",
      "include_colab_link": true
    },
    "kernelspec": {
      "name": "python3",
      "display_name": "Python 3"
    }
  },
  "cells": [
    {
      "cell_type": "markdown",
      "metadata": {
        "id": "view-in-github",
        "colab_type": "text"
      },
      "source": [
        "<a href=\"https://colab.research.google.com/github/Skezzowski/CPT-Calculator/blob/master/Prospect_Theory.ipynb\" target=\"_parent\"><img src=\"https://colab.research.google.com/assets/colab-badge.svg\" alt=\"Open In Colab\"/></a>"
      ]
    },
    {
      "cell_type": "markdown",
      "metadata": {
        "id": "Ip1Lyw3e2SH6",
        "colab_type": "text"
      },
      "source": [
        "#Imports"
      ]
    },
    {
      "cell_type": "code",
      "metadata": {
        "id": "sjvAZKer2GhX",
        "colab_type": "code",
        "colab": {}
      },
      "source": [
        "import numpy as np\n",
        "from matplotlib import pyplot as pl"
      ],
      "execution_count": 0,
      "outputs": []
    },
    {
      "cell_type": "markdown",
      "metadata": {
        "id": "Eg9TvtYd2RRy",
        "colab_type": "text"
      },
      "source": [
        "#Value function"
      ]
    },
    {
      "cell_type": "code",
      "metadata": {
        "id": "DnUhX49L2Yse",
        "colab_type": "code",
        "colab": {}
      },
      "source": [
        "def valueFunction(x):\n",
        "  x = np.atleast_1d(x)\n",
        "  y = np.array([])\n",
        "  for idx,val in enumerate(x):\n",
        "    if(val>=0):\n",
        "       y = np.append(y, val**(1./0.88))\n",
        "    else:\n",
        "       y = np.append(y,2.25 * (-(-val)**(1./0.88)))\n",
        "  return y\n"
      ],
      "execution_count": 0,
      "outputs": []
    },
    {
      "cell_type": "markdown",
      "metadata": {
        "id": "TCuqjo5t9xNN",
        "colab_type": "text"
      },
      "source": [
        "#Weighting (π) function"
      ]
    },
    {
      "cell_type": "code",
      "metadata": {
        "id": "XeJbY26q-Gck",
        "colab_type": "code",
        "colab": {}
      },
      "source": [
        "def weightFunction(x):\n",
        "  alfa = 0.6\n",
        "  x = np.atleast_1d(x)\n",
        "  y = np.array([])\n",
        "  for idx,val in enumerate(x):\n",
        "      up = val**alfa\n",
        "      down = pow(val**alfa + (1-val)**alfa, 1/alfa)\n",
        "      y = np.append(y,weightF(up/down))\n",
        "  return y"
      ],
      "execution_count": 0,
      "outputs": []
    },
    {
      "cell_type": "markdown",
      "metadata": {
        "id": "4mrUfQ1TFYrm",
        "colab_type": "text"
      },
      "source": [
        "#Prospect Theory"
      ]
    },
    {
      "cell_type": "code",
      "metadata": {
        "id": "NLPfJSHrFX4M",
        "colab_type": "code",
        "colab": {}
      },
      "source": [
        "def prospect(x,p):\n",
        "  if  p > 1 or p < 0:\n",
        "    print(\"Probability is out of bounds: [0,1]\")\n",
        "    return\n",
        "  x = np.atleast_1d(x)\n",
        "  p = np.atleast_1d(p)\n",
        "  return np.sum(weightFunction(p) * valueFunction(x))"
      ],
      "execution_count": 0,
      "outputs": []
    },
    {
      "cell_type": "code",
      "metadata": {
        "id": "9i4La57o29SJ",
        "colab_type": "code",
        "outputId": "fa1ac11b-f8ad-482a-c36f-cdde78a3fe9c",
        "colab": {
          "base_uri": "https://localhost:8080/",
          "height": 578
        }
      },
      "source": [
        "X = np.linspace(-5,5)\n",
        "X2 = np.linspace(0,1,10)\n",
        "\n",
        "pl.grid(True, which='both')\n",
        "pl.axhline(y=0, color='k')\n",
        "pl.axvline(x=0, color='k')\n",
        "pl.xlabel(\"Gain\")\n",
        "pl.ylabel(\"Value\")\n",
        "pl.plot(X,valueFunction(X))\n",
        "pl.title(\"Value Function\")\n",
        "pl.show()\n",
        "\n",
        "pl.grid(True, which='both')\n",
        "pl.plot(X2,X2)\n",
        "pl.plot(X2,weightFunction(X2))\n",
        "pl.title(\"Weight Function\")\n",
        "pl.show()\n",
        "\n",
        "print(prospect(-15,1))"
      ],
      "execution_count": 0,
      "outputs": [
        {
          "output_type": "display_data",
          "data": {
            "image/png": "[encoded data removed]",
            "text/plain": [
              "<Figure size 432x288 with 1 Axes>"
            ]
          },
          "metadata": {
            "tags": [],
            "needs_background": "light"
          }
        },
        {
          "output_type": "display_data",
          "data": {
            "image/png": "[encoded data removed]",
            "text/plain": [
              "<Figure size 432x288 with 1 Axes>"
            ]
          },
          "metadata": {
            "tags": [],
            "needs_background": "light"
          }
        },
        {
          "output_type": "stream",
          "text": [
            "-48.825855100872175\n"
          ],
          "name": "stdout"
        }
      ]
    },
    {
      "cell_type": "code",
      "metadata": {
        "id": "5KAz2woJ3Z9K",
        "colab_type": "code",
        "colab": {}
      },
      "source": [
        ""
      ],
      "execution_count": 0,
      "outputs": []
    }
  ]
}